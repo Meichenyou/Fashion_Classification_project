{
  "nbformat": 4,
  "nbformat_minor": 0,
  "metadata": {
    "colab": {
      "provenance": [],
      "gpuType": "T4",
      "mount_file_id": "12yd5sopegFbmiC8SoxWobuk9eTMWvRgU",
      "authorship_tag": "ABX9TyMASVt+sh+2w495XZzObh/L",
      "include_colab_link": true
    },
    "kernelspec": {
      "name": "python3",
      "display_name": "Python 3"
    },
    "language_info": {
      "name": "python"
    },
    "accelerator": "GPU"
  },
  "cells": [
    {
      "cell_type": "markdown",
      "metadata": {
        "id": "view-in-github",
        "colab_type": "text"
      },
      "source": [
        "<a href=\"https://colab.research.google.com/github/Meichenyou/Fashion_Classification_project/blob/main/Fashion_Classification_Project.ipynb\" target=\"_parent\"><img src=\"https://colab.research.google.com/assets/colab-badge.svg\" alt=\"Open In Colab\"/></a>"
      ]
    },
    {
      "cell_type": "code",
      "execution_count": 1,
      "metadata": {
        "colab": {
          "base_uri": "https://localhost:8080/"
        },
        "id": "7cNiFdUs5BIg",
        "outputId": "3e1e6c06-4693-4af9-913c-309da7f4a8ee"
      },
      "outputs": [
        {
          "output_type": "stream",
          "name": "stdout",
          "text": [
            "True\n",
            "Tesla T4\n"
          ]
        }
      ],
      "source": [
        "import torch\n",
        "print(torch.cuda.is_available())\n",
        "print(torch.cuda.get_device_name(0))"
      ]
    },
    {
      "cell_type": "code",
      "source": [
        "from google.colab import drive\n",
        "drive.mount('/content/drive')"
      ],
      "metadata": {
        "colab": {
          "base_uri": "https://localhost:8080/"
        },
        "id": "4rnIEdWfJUuV",
        "outputId": "ec27478d-ed8c-474d-ee22-1511e5627476"
      },
      "execution_count": 1,
      "outputs": [
        {
          "output_type": "stream",
          "name": "stdout",
          "text": [
            "Mounted at /content/drive\n"
          ]
        }
      ]
    },
    {
      "cell_type": "code",
      "source": [
        "from torch.utils.data import Dataset, DataLoader\n",
        "from torchvision import transforms\n",
        "from PIL import Image\n",
        "import os\n",
        "\n",
        "data_path = '/content/drive/MyDrive/images/dataset'\n",
        "\n",
        "class CustomDataset(Dataset):\n",
        "  def __init__(self, root_dir, transform=None):\n",
        "    self.root_dir = root_dir\n",
        "    self.transform = transform\n",
        "    self.image_files = os.listdir(root_dir)\n",
        "\n",
        "  def __len__(self):\n",
        "    return len(self.image_files)\n",
        "\n",
        "  def __getitem__(self, idx):\n",
        "    img_path = os.path.join(self.root_dir, self.image_files[idx])\n",
        "    image = Image.open(img_path).convert(\"RGB\")\n",
        "    label = 0\n",
        "    if self.transform:\n",
        "      image = self.transform(image)\n",
        "    return image, label\n",
        "\n",
        "dataset = CustomDataset(root_dir=data_path)\n",
        "\n",
        "img_path = '/content/drive/MyDrive/images/dataset/image1.jpg'\n",
        "image = Image.open(img_path)\n",
        "image.show()\n",
        "\n",
        "\n"
      ],
      "metadata": {
        "id": "hzDu3yx_MrFw"
      },
      "execution_count": 8,
      "outputs": []
    }
  ]
}